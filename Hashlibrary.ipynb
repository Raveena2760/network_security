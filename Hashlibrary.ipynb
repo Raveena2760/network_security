{
  "nbformat": 4,
  "nbformat_minor": 0,
  "metadata": {
    "colab": {
      "name": "Hashlibrary.ipynb",
      "provenance": []
    },
    "kernelspec": {
      "name": "python3",
      "display_name": "Python 3"
    },
    "language_info": {
      "name": "python"
    }
  },
  "cells": [
    {
      "cell_type": "code",
      "metadata": {
        "colab": {
          "base_uri": "https://localhost:8080/"
        },
        "id": "bv1NRVfPDKrh",
        "outputId": "9063531c-7835-4188-9d9a-0fcb50488017"
      },
      "source": [
        "text = input(\"enter the string \")\n",
        "import hashlib\n",
        "m=hashlib.md5()\n",
        "m.update(text.encode())\n",
        "print(m.hexdigest())"
      ],
      "execution_count": 1,
      "outputs": [
        {
          "output_type": "stream",
          "text": [
            "enter the string orange\n",
            "fe01d67a002dfa0f3ac084298142eccd\n"
          ],
          "name": "stdout"
        }
      ]
    },
    {
      "cell_type": "code",
      "metadata": {
        "colab": {
          "base_uri": "https://localhost:8080/"
        },
        "id": "7u8SeKwTMOWw",
        "outputId": "31c701a7-86e1-471a-9dda-dd65a43a2118"
      },
      "source": [
        "text = input(\"enter the string \")\n",
        "import hashlib\n",
        "m=hashlib.sha3_224()\n",
        "h=hashlib.blake2s()\n",
        "s=hashlib.sha3_512()\n",
        "m.update(text.encode())\n",
        "h.update(text.encode())\n",
        "s.update(text.encode())\n",
        "print(m.hexdigest())\n",
        "print(h.hexdigest())\n",
        "print(s.hexdigest())\n"
      ],
      "execution_count": 6,
      "outputs": [
        {
          "output_type": "stream",
          "text": [
            "enter the string apple\n",
            "a8a4edebe16de798cdddb6cf3bb2e24da900335d9111dc62c6c2b7bd\n",
            "87c2f94098a9e22e4c61827bc2c8ea02a9c466fbe0aeacb4ab171ae11d820554\n",
            "3f932042b1206955946ffc1095c46b75a6d45257b579476ffea0139348fb14070afeeee5de8250000683c0336e00b52e965a1c5263743e8509eb713818864411\n"
          ],
          "name": "stdout"
        }
      ]
    },
    {
      "cell_type": "code",
      "metadata": {
        "id": "BhE6zh4MODfa"
      },
      "source": [
        ""
      ],
      "execution_count": null,
      "outputs": []
    }
  ]
}